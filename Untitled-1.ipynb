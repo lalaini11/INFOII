{
 "cells": [
  {
   "cell_type": "markdown",
   "metadata": {},
   "source": [
    "La transformacion de fourier convierte la señal en el dominio del tiempo al dominio de la frecuencia, es util cuando se trabaja con señales, señales complejas "
   ]
  },
  {
   "cell_type": "code",
   "execution_count": 4,
   "metadata": {},
   "outputs": [
    {
     "name": "stdout",
     "output_type": "stream",
     "text": [
      "[0.04980029 0.37198546 0.06358956 0.99463456 0.57616271 0.80796814\n",
      " 0.47688657 0.0571868  0.05913585 0.18362252 0.94410795 0.77815476\n",
      " 0.57861122 0.75749283 0.33152515 0.11898619 0.94607074 0.09583043\n",
      " 0.83048063 0.64088735]\n",
      "[ 9.6631197 -0.j         -0.25565756+0.38690926j -0.33641665-1.17407076j\n",
      " -1.78326404+2.41759753j  0.47071141+0.28561742j -0.43680904+0.37295029j\n",
      "  0.47899062+0.97486356j -1.3187555 +0.23475355j -0.50011481-2.25041895j\n",
      " -0.67705216-1.55241819j  0.04962164-0.j         -0.67705216+1.55241819j\n",
      " -0.50011481+2.25041895j -1.3187555 -0.23475355j  0.47899062-0.97486356j\n",
      " -0.43680904-0.37295029j  0.47071141-0.28561742j -1.78326404-2.41759753j\n",
      " -0.33641665+1.17407076j -0.25565756-0.38690926j]\n"
     ]
    }
   ],
   "source": [
    "from scipy.fftpack import fft\n",
    "import numpy as np\n",
    "x=np.random.rand(20) #array\n",
    "y= fft(x) #aplica la trandformada a cada una de las x\n",
    "print(x)\n",
    "print(y)\n"
   ]
  },
  {
   "cell_type": "code",
   "execution_count": null,
   "metadata": {},
   "outputs": [],
   "source": [
    "#CONSTANTES FISICAS\n",
    "\n",
    "from scipy import constants as C\n",
    "C.c #velocidad de la luz en m/s\n",
    "C.e #euler\n",
    "C.Avogadro\n",
    "C.Planck "
   ]
  },
  {
   "cell_type": "markdown",
   "metadata": {},
   "source": [
    "La interpolación sirve para encontrar un valor entre dos puntos en una línea o curva. Mira todos los ddatos, es la \"estimación de valor intermedio entre los puntos de datos precisos\"\n",
    "\n",
    "- Interpolación lineal"
   ]
  },
  {
   "cell_type": "code",
   "execution_count": null,
   "metadata": {},
   "outputs": [],
   "source": [
    "from scipy.interpolate import interpld \n",
    "import matplotlib.pyplot as plt\n",
    "\n",
    "datosX=np.arange(0,0.1,0.005)\n",
    "A,k,theta=10.0,33.3,np.pi/5.0\n",
    "y_real=A*np.sin(2*np.pi*k*datosX +theta)\n"
   ]
  },
  {
   "cell_type": "markdown",
   "metadata": {},
   "source": [
    ".io me permite a subir archivos sio.savemat me guarda el archivo tipo matlab"
   ]
  },
  {
   "cell_type": "code",
   "execution_count": null,
   "metadata": {},
   "outputs": [],
   "source": []
  }
 ],
 "metadata": {
  "kernelspec": {
   "display_name": "Python 3",
   "language": "python",
   "name": "python3"
  },
  "language_info": {
   "codemirror_mode": {
    "name": "ipython",
    "version": 3
   },
   "file_extension": ".py",
   "mimetype": "text/x-python",
   "name": "python",
   "nbconvert_exporter": "python",
   "pygments_lexer": "ipython3",
   "version": "3.11.9"
  }
 },
 "nbformat": 4,
 "nbformat_minor": 2
}
