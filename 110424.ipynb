{
 "cells": [
  {
   "cell_type": "markdown",
   "metadata": {},
   "source": [
    "INFORMATICA MÉDICA\n",
    "Combina la atención médica y la tecnología de la información para mejorar la eficiencia, la presición y la calidad de la atención médica, tiene hc.\n",
    "Busca la estandarizacion, para pasar informacion de historias clininas de una entidad a otra y saber de qué se habla, integra la información médica.\n",
    "* Objetivo\n",
    "Obtimicar la adquisición, almacenamiento, la recuperación y el uso de la información en salud: procesamiento, análisis, comprensión, visualización, navegación.\n",
    "* Historia clinica electronica:\n",
    "Sistema digital que guarda información de salud de un paciente. Los datos pueden compartirse solo para tratamiento y deben estar encriptado\n",
    "\n",
    "* Estandares: Ayuda a armonizar los métodos de gestión y análisis de información, emplean un lenguaje común y el uso de terminología biomédica específica. Favorece la extracción eficiente de información de las bases de datos. Son un grupo de reglas y definiciones que especifican como llevar a cabo un proceso.\n",
    "* Interoperabilidad: Capacidad de diferentes sistemas de información, dispositivos y aplicaciones para acceder, intercambiar, integrar y utilizar datos de pacientes.\n",
    "\n",
    "Estandares de interoperabilidad en mensajería\n",
    "1. HL7 V2.X, HL7 V3: Permite intercambiar datos demográficos, clínicos y administrativos\n",
    "2. DICOM: Define la forma para comunicar imágenes diagnósticas y datos asociados a éstas\n",
    "3. ASC-X12: Diseñado para intercambiar tramitaciones, elegibilidad de pacientes y pagos de prestaciones\n",
    "4. IEEE 1073: Determina mensajes para intercambiar fatos con equipos de instrumentacion medica\n",
    "\n",
    "Estandares de terminología:\n",
    "1. CIE-10: Define un catálogo de diagnósticos y procedimientos para fines estadísticos, facturación, costos y tramitaciones\n",
    "2. LOINC: Orientado a pruebas de laboratorio, métricas y obervaciones clínicas\n",
    "3. SNOMED CT: Una gran ontología de conceptos biomédicos con descripciones, relaciones y gramática para construir expresiones clínicas: Sistemas de AI que mira que info textual puso la persona y como relacionarla a un ámbito específico"
   ]
  },
  {
   "cell_type": "markdown",
   "metadata": {},
   "source": [
    "Vamos a trabajar con el tema de imagenes médicas: ESTANDAR DICOM que es un estándar para imágenes y comunicaciones digitales en medicina, especifica un conjunto diverso de información sobre pacientes, equipos de imágenes, procedimientos e imágenes. DICOM está estructurado jerarquicamente y tiene una arquitectura Cliente-Servidor. Tiene las siguientes partes: \n",
    "- Formato de archivo/datos\n",
    "- Protocolo de intercambio de datos\n",
    "- Arquitectura de protocolo de red.\n",
    "\n",
    "El header contiene preámbulo y prefiio y el dataset data element. Contiene sintaxis de transferencia UID que especifica la codificación y la comprensión del Data Set. El data Set contiene la imagen/imagenes especificadas.\n",
    "\n",
    "\n",
    "tiene metadata e informaciond e imagen."
   ]
  },
  {
   "cell_type": "code",
   "execution_count": null,
   "metadata": {},
   "outputs": [],
   "source": []
  }
 ],
 "metadata": {
  "language_info": {
   "name": "python"
  }
 },
 "nbformat": 4,
 "nbformat_minor": 2
}
