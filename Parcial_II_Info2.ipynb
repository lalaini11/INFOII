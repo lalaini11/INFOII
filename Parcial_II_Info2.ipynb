{
 "cells": [
  {
   "cell_type": "markdown",
   "metadata": {},
   "source": [
    "\n",
    "<p align=\"center\"><img alt=\"udeA logo\" height=\"150px\" src=\"https://github.com/freddyduitama/images/blob/master/logo.png?raw=true\"></p><h1><font color='0B5345'> <center>\n",
    "\n",
    "Informática II\n",
    "\n",
    " </center></font></h1>\n",
    "<h2><font color='0B5345'> <center>\n",
    "Parcial II: Computación numérica en python</center></font></h2>\n",
    "<font  face=\"Courier New\" size=\"3\">\n",
    "\n",
    "<p3><center><b><font color='0B5345' face=\"Lucida Calligraphy,Comic Sans MS,Lucida Console\" size=\"5\">Universidad de Antioquia - Bioingeniería</font></b> </center></p3>\n",
    "\n"
   ]
  },
  {
   "cell_type": "markdown",
   "metadata": {},
   "source": [
    "\n",
    "Nombre: Grissy Liliana Cardiles Martinez    \n",
    "\n",
    "Cédula: 1005182785\n"
   ]
  },
  {
   "cell_type": "markdown",
   "metadata": {},
   "source": [
    "Antes de iniciar leer cuidadosamente cada enunciado antes de responder y asegurarse de comprender completamente lo que se está solicitando. \n",
    "\n",
    "¡Buena suerte!"
   ]
  },
  {
   "cell_type": "markdown",
   "metadata": {},
   "source": [
    "1. (50%) La electromiografía (EMG) es una técnica ampliamente utilizada en medicina y fisiología para estudiar la actividad eléctrica de los músculos. Esta actividad, conocida como electromiograma (EMG), se registra mediante electrodos colocados sobre la piel o dentro del músculo, y proporciona información valiosa sobre el funcionamiento del sistema neuromuscular.\n",
    "\n",
    "Instrucciones:\n",
    "\n",
    "Utilizando programación orientada a objetos, cargue dos archivos de señales de EMG que contenga datos de varios electrodos (canales).\n",
    "\n",
    "- Cree un método que muestre la información de la señal, que describa la forma de la señal y sus dimensiones (ejemplo: número de puntos de tiempo y el número de canales)\n",
    "\n",
    "- Defina un método que sea capaz de graficar cada par de canales de EMG en un subplot con un tamaño adecuado. El número de canales es par, por lo tanto debe organizar los subplots en una matriz de dimensiones (numerodecanales/2, numerodecanales/2). Cada canal debe tener un color distinto en el gráfico.\n",
    "\n",
    "- Los gráficos deben tener títulos, labels, cuadrícula, nombres en los ejes y cambios en el grosor de la línea.\n",
    "- Debe permitir al usuario ingresar los límites del eje x a graficar.\n",
    "- En este caso el gráfico es datos vs tiempo\n",
    "\n",
    "- Defina un método que identifique y muestre la información del valor máximo de amplitud de la señal por cada canal y archivo.\n",
    "\n",
    "- Cree un método adicional que grafique una señal que represente el promedio de todos los canales de un archivo. Esta señal promedio debe tener un estilo de línea diferente y estar en un gráfico separado."
   ]
  },
  {
   "cell_type": "code",
   "execution_count": 30,
   "metadata": {},
   "outputs": [
    {
     "name": "stdout",
     "output_type": "stream",
     "text": [
      "La variable cargada es del tipo: <class 'dict'>\n",
      "las llaves son: dict_keys(['__header__', '__version__', '__globals__', 'tiempo', 'datos'])\n",
      "La variable cargada es del tipo: <class 'dict'>\n",
      "las llaves son: dict_keys(['__header__', '__version__', '__globals__', 'tiempo', 'datos'])\n"
     ]
    }
   ],
   "source": [
    "import scipy.io as sio\n",
    "from scipy import stats\n",
    "import numpy as np \n",
    "import matplotlib.pyplot as plt\n",
    "\n",
    "path = r\"C:\\Users\\griss\\Documents\\Parcial 1 Info2\\INFOII\\archivo1.mat\"\n",
    "mat_contents = sio.loadmat(path) #asigna el contenido de ese archivo en el PATH #loadmath carga un archivo .mat\n",
    "print(f'La variable cargada es del tipo: {type(mat_contents)}') #tipo de datos es diccionario en este caso \n",
    "print(f'las llaves son: {mat_contents.keys()}') #como se que es un diccionario, voy a pedirle las llaves\n",
    "path2 = r\"C:\\Users\\griss\\Documents\\Parcial 1 Info2\\INFOII\\archivo2.mat\"\n",
    "mat_contents2 = sio.loadmat(path2) #asigna el contenido de ese archivo en el PATH #loadmath carga un archivo .mat\n",
    "print(f'La variable cargada es del tipo: {type(mat_contents2)}') #tipo de datos es diccionario en este caso \n",
    "print(f'las llaves son: {mat_contents2.keys()}') #como se que es un diccionario, voy a pedirle las llaves"
   ]
  },
  {
   "cell_type": "code",
   "execution_count": 29,
   "metadata": {},
   "outputs": [
    {
     "name": "stdout",
     "output_type": "stream",
     "text": [
      "La señal tiene la siguiente información\n",
      "En el array tiempo tiene una dimensión de:  2\n",
      "Además, tiene forma de 1 sensores y 63196 puntos\n",
      "En el array datos tiene una dimensión de:  2\n",
      "Además, tiene forma de 8 sensores y tiene 63196 puntos\n",
      "La señal tiene la siguiente información\n",
      "En el array tiempo tiene una dimensión de:  2\n",
      "Además, tiene forma de 1 sensores y 57974 puntos\n",
      "En el array datos tiene una dimensión de:  2\n",
      "Además, tiene forma de 8 sensores y tiene 57974 puntos\n"
     ]
    }
   ],
   "source": [
    "\n",
    "def descripcionSenal(file):\n",
    "      # Cargar la señal desde el archivo .mat\n",
    "    data = sio.loadmat(file)\n",
    "    senal = data['tiempo'] #acceder a los datos \n",
    "    senal2=data['datos']\n",
    "    sensores = senal.shape[0] #primera posicion, dependiendo de como \n",
    "    puntos = senal.shape[1] \n",
    "    sensores2=senal2.shape[0]\n",
    "    puntos2=senal2.shape[1] \n",
    "\n",
    "    print(\"La señal tiene la siguiente información\")\n",
    "    print(\"En el array tiempo tiene una dimensión de: \",senal.ndim) #como esta formada la señal, miro dimension y forma que me da info de como es la señal\n",
    "    print(f'Además, tiene forma de {sensores} sensores y {puntos} puntos')\n",
    "    print(\"En el array datos tiene una dimensión de: \",senal2.ndim) #como esta formada la señal, miro dimension y forma que me da info de como es la señal\n",
    "    print(f'Además, tiene forma de {sensores2} sensores y tiene {puntos2} puntos')\n",
    "\n",
    "file=r\"C:\\Users\\griss\\Documents\\Parcial 1 Info2\\INFOII\\archivo1.mat\"\n",
    "descripcionSenal(file)\n",
    "\n",
    "file2=r\"C:\\Users\\griss\\Documents\\Parcial 1 Info2\\INFOII\\archivo2.mat\"\n",
    "descripcionSenal(file2)"
   ]
  },
  {
   "cell_type": "code",
   "execution_count": 94,
   "metadata": {},
   "outputs": [
    {
     "ename": "TypeError",
     "evalue": "list indices must be integers or slices, not tuple",
     "output_type": "error",
     "traceback": [
      "\u001b[1;31m---------------------------------------------------------------------------\u001b[0m",
      "\u001b[1;31mTypeError\u001b[0m                                 Traceback (most recent call last)",
      "Cell \u001b[1;32mIn[94], line 33\u001b[0m\n\u001b[0;32m     30\u001b[0m     plt\u001b[38;5;241m.\u001b[39mshow()\n\u001b[0;32m     32\u001b[0m file\u001b[38;5;241m=\u001b[39m\u001b[38;5;124mr\u001b[39m\u001b[38;5;124m\"\u001b[39m\u001b[38;5;124mC:\u001b[39m\u001b[38;5;124m\\\u001b[39m\u001b[38;5;124mUsers\u001b[39m\u001b[38;5;124m\\\u001b[39m\u001b[38;5;124mgriss\u001b[39m\u001b[38;5;124m\\\u001b[39m\u001b[38;5;124mDocuments\u001b[39m\u001b[38;5;124m\\\u001b[39m\u001b[38;5;124mParcial 1 Info2\u001b[39m\u001b[38;5;124m\\\u001b[39m\u001b[38;5;124mINFOII\u001b[39m\u001b[38;5;124m\\\u001b[39m\u001b[38;5;124marchivo1.mat\u001b[39m\u001b[38;5;124m\"\u001b[39m\n\u001b[1;32m---> 33\u001b[0m \u001b[43mgraficarSenal\u001b[49m\u001b[43m(\u001b[49m\u001b[43mfile\u001b[49m\u001b[43m,\u001b[49m\u001b[43mlimitex\u001b[49m\u001b[38;5;241;43m=\u001b[39;49m\u001b[43m(\u001b[49m\u001b[38;5;241;43m0\u001b[39;49m\u001b[43m,\u001b[49m\u001b[38;5;241;43m10\u001b[39;49m\u001b[43m)\u001b[49m\u001b[43m)\u001b[49m\n",
      "Cell \u001b[1;32mIn[94], line 20\u001b[0m, in \u001b[0;36mgraficarSenal\u001b[1;34m(file, limitex)\u001b[0m\n\u001b[0;32m     18\u001b[0m canal \u001b[38;5;241m=\u001b[39m i \u001b[38;5;241m*\u001b[39m columnas \u001b[38;5;241m+\u001b[39m j\n\u001b[0;32m     19\u001b[0m \u001b[38;5;28;01mif\u001b[39;00m limitex \u001b[38;5;129;01mis\u001b[39;00m \u001b[38;5;129;01mnot\u001b[39;00m \u001b[38;5;28;01mNone\u001b[39;00m:\n\u001b[1;32m---> 20\u001b[0m     \u001b[43maxes\u001b[49m\u001b[43m[\u001b[49m\u001b[43mi\u001b[49m\u001b[43m,\u001b[49m\u001b[43m \u001b[49m\u001b[43mj\u001b[49m\u001b[43m]\u001b[49m\u001b[38;5;241m.\u001b[39mplot(tiempo, senal[\u001b[38;5;124m'\u001b[39m\u001b[38;5;124mdatos\u001b[39m\u001b[38;5;124m'\u001b[39m][canal], color\u001b[38;5;241m=\u001b[39mcolores[i\u001b[38;5;241m-\u001b[39m\u001b[38;5;241m1\u001b[39m], linewidth\u001b[38;5;241m=\u001b[39m\u001b[38;5;241m1.5\u001b[39m)\n\u001b[0;32m     21\u001b[0m     axes[i, j]\u001b[38;5;241m.\u001b[39msetxlim(limitex)\n\u001b[0;32m     22\u001b[0m \u001b[38;5;28;01melse\u001b[39;00m:\n",
      "\u001b[1;31mTypeError\u001b[0m: list indices must be integers or slices, not tuple"
     ]
    },
    {
     "data": {
      "image/png": "[encoded data removed]",
      "text/plain": [
       "<Figure size 1200x800 with 1 Axes>"
      ]
     },
     "metadata": {},
     "output_type": "display_data"
    }
   ],
   "source": [
    "def graficarSenal(file,limitex):\n",
    "    data=sio.loadmat(file)\n",
    "    senal=data['tiempo']\n",
    "    senal2=data['datos']\n",
    "\n",
    "    canales=senal.shape[0]\n",
    "    filas=max(canales//2,1)\n",
    "    columnas= max(canales//2,1) #el requerimiento es que sea par\n",
    "    colores=['blue','red','pink','yellow','green']    \n",
    "    fig, axes = plt.subplots(filas,columnas, figsize=(12, 8))\n",
    "\n",
    "    if filas == 1 and columnas == 1:\n",
    "        axes = [[axes]]\n",
    "    #for i in range(filas):\n",
    "     #   plt.plot(data[i-1, :], color=colores[i-1], label=f'Electrodo {i}')\n",
    "    for i in range(filas):\n",
    "        for j in range(columnas):\n",
    "            canal = i * columnas + j\n",
    "            if limitex is not None:\n",
    "                axes[i, j].plot(tiempo, senal['datos'][canal], color=colores[i-1], linewidth=1.5)\n",
    "                axes[i, j].setxlim(limitex)\n",
    "            else:\n",
    "                axes[i, j].plot(tiempo, senal['datos'][canal], color=colores[i-1], linewidth=1.5)\n",
    "            axes[i, j].set_title(f'Canal {canal}')\n",
    "            axes[i, j].set_xlabel('Tiempo')\n",
    "            axes[i, j].set_ylabel('Datos')\n",
    "            axes[i, j].grid(True)\n",
    "\n",
    "    plt.tight_layout()\n",
    "    plt.show()\n",
    "\n",
    "file=r\"C:\\Users\\griss\\Documents\\Parcial 1 Info2\\INFOII\\archivo1.mat\"\n",
    "graficarSenal(file,limitex=(0,10))"
   ]
  },
  {
   "cell_type": "code",
   "execution_count": null,
   "metadata": {},
   "outputs": [],
   "source": [
    "\n",
    "    for fila in range(filas): #acomoda todo en pares\n",
    "        for columna in range(columnas):\n",
    "            senal = fila * 2 + columna\n",
    "            senal2 = fila * 2 + columna + 1\n",
    "        if senal2<canales:\n",
    "            fig, (ax1,ax2)=plt.subplots(2,1, figsize=(5,5)) #siempre tiene asociada la fig que es un cuadrado que tiene la información, ax son los ejes (AXIS) #DOS FILAS Y UNA SOLA COLUMNA\n",
    "            #figsize cambia el tamaño de la figura\n",
    "            ax1.plot(senal[]'x' ,label=\"Grafica datos\",color=\"pink\",linewidth=3) #lo que voy a graficas: asignación de los axis #label para leyendas\n",
    "            ax2.plot(x2,y2, label=\"Grafica tiempo\",color=\"purple\",linewidth=5,linestyle=\":\")\n",
    "            ax1.set_xlabel(\"Eje x\")\n",
    "            ax1.set_ylabel(\"Eje y\")\n",
    "            ax1.set_title(\"grafica tiempo\")\n",
    "            ax1.legend()\n",
    "            ax2.set_xlabel(\"Eje x\")\n",
    "            ax2.set_ylabel(\"Eje y\")\n",
    "            ax2.set_title(\"grafica datos\")\n",
    "            ax2.legend()"
   ]
  },
  {
   "cell_type": "markdown",
   "metadata": {},
   "source": [
    "- Defina un método que identifique y muestre la información del valor máximo de amplitud de la señal por cada canal y archivo.\n"
   ]
  },
  {
   "cell_type": "code",
   "execution_count": 103,
   "metadata": {},
   "outputs": [
    {
     "name": "stdout",
     "output_type": "stream",
     "text": [
      " Sensor 1:\n",
      "  Valor máximo: 65661.0\n",
      "  Posición máximo63195\n",
      " Sensor 2:\n",
      "  Valor máximo: 0.00127\n",
      "  Posición máximo9160\n"
     ]
    }
   ],
   "source": [
    "def maximo(file, sensor):\n",
    "    data=sio.loadmat(file)\n",
    "    senal=data['tiempo']\n",
    "    senal2=data['datos']\n",
    "\n",
    "    if sensor == 1:\n",
    "            maxvalor = np.max(senal)\n",
    "            maxposicion = np.argmax(senal)\n",
    "    elif sensor == 2:\n",
    "            maxvalor = np.max(senal2)\n",
    "            maxposicion = np.argmax(senal2)\n",
    "\n",
    "    return maxvalor, maxposicion\n",
    "\n",
    "file=r\"C:\\Users\\griss\\Documents\\Parcial 1 Info2\\INFOII\\archivo1.mat\"\n",
    "\n",
    "\n",
    "maxv1, maxp1 = maximo(file, 1)\n",
    "maxv2, maxp2 = maximo(file, 2)\n",
    "\n",
    "\n",
    "print(f\"\"\" Sensor 1:\n",
    "  Valor máximo: {maxv1}\n",
    "  Posición máximo{maxp1}\"\"\")\n",
    "print(f\"\"\" Sensor 2:\n",
    "  Valor máximo: {maxv2}\n",
    "  Posición máximo{maxp2}\"\"\")\n"
   ]
  },
  {
   "cell_type": "code",
   "execution_count": 41,
   "metadata": {},
   "outputs": [],
   "source": [
    "def graficarSenal(file): \n",
    "    data=sio.loadmat(file)\n",
    "    senal=data['tiempo']\n",
    "    senal2=data['datos']\n",
    "\n",
    "    canales=senal.shape[0]\n",
    "    filas=canales//2\n",
    "    columnas= canales//2 #el requerimiento es que sea par\n",
    "\n",
    "    #colores=['cyan','red','pink','yellow','black']\n",
    "    #fig, axs = plt.subplots(filas, columnas, figsize=(12, 6), sharex=True)\n",
    "\n",
    "    for i in filas:\n",
    "            plt.plot(data[i-1, :], color=colores[i-1], label=f'Electrodo {i}')\n",
    "    \n",
    "    for fila in filas: #acomoda todo en pares\n",
    "        for columna in columnas:\n",
    "            senal = fila * 2 + columna\n",
    "            senal2 = fila * 2 + columna + 1\n",
    "        if senal2<canales:\n",
    "            fig, (ax1,ax2)=plt.subplots(2,1, figsize=(5,5)) #siempre tiene asociada la fig que es un cuadrado que tiene la información, ax son los ejes (AXIS) #DOS FILAS Y UNA SOLA COLUMNA\n",
    "            #figsize cambia el tamaño de la figura\n",
    "            ax1.plot(x1,y1,'x' ,label=\"Grafica datos\",color=\"pink\",linewidth=3) #lo que voy a graficas: asignación de los axis #label para leyendas\n",
    "            ax2.plot(x2,y2, label=\"Grafica tiempo\",color=\"purple\",linewidth=5,linestyle=\":\")\n",
    "            ax1.set_xlabel(\"Eje x\")\n",
    "            ax1.set_ylabel(\"Eje y\")\n",
    "            ax1.set_title(\"grafica tiempo\")\n",
    "            ax1.legend()\n",
    "            ax2.set_xlabel(\"Eje x\")\n",
    "            ax2.set_ylabel(\"Eje y\")\n",
    "            ax2.set_title(\"grafica datos\")\n",
    "            ax2.legend()\n",
    "\n",
    "    #plt.title('Gráficos de canales de EMG')\n",
    "    #plt.xlabel('Tiempo')\n",
    "    #plt.ylabel('Datos')\n",
    "    #plt.legend()\n",
    "    #plt.grid(True)\n",
    "    plt.tight_layout()\n",
    "    plt.show()\n",
    "\n",
    "\n",
    " #num_canales = datos1.shape[0]\n",
    "  #num_filas = num_canales // 2\n",
    "  #num_columnas = num_canales // 2\n",
    "\n",
    "  #fig, axes = plt.subplots(num_filas, num_columnas, figsize=(15, 10))\n",
    "  #fig.suptitle('Gráficos de pares de canales de EMG')\n",
    "\n",
    "  #plt.tight_layout()\n",
    "  #plt.show()\n",
    "    file=r\"C:\\Users\\griss\\Documents\\Parcial 1 Info2\\INFOII\\archivo1.mat\"\n",
    "    graficarSenal(file)"
   ]
  },
  {
   "cell_type": "markdown",
   "metadata": {},
   "source": [
    "- Cree un método adicional que grafique una señal que represente el promedio de todos los canales de un archivo. Esta señal promedio debe tener un estilo de línea diferente y estar en un gráfico separado."
   ]
  },
  {
   "cell_type": "code",
   "execution_count": 105,
   "metadata": {},
   "outputs": [
    {
     "ename": "SyntaxError",
     "evalue": "expected ':' (2783495342.py, line 1)",
     "output_type": "error",
     "traceback": [
      "\u001b[1;36m  Cell \u001b[1;32mIn[105], line 1\u001b[1;36m\u001b[0m\n\u001b[1;33m    def promedio(file)\u001b[0m\n\u001b[1;37m                      ^\u001b[0m\n\u001b[1;31mSyntaxError\u001b[0m\u001b[1;31m:\u001b[0m expected ':'\n"
     ]
    }
   ],
   "source": [
    "def promedio(file):\n",
    "    data= sio.loadmat(file)\n",
    "    senal= data['datos']\n",
    "    prom= np.mean(senal, axis=1)\n",
    "\n",
    "    plt.figure()\n",
    "    plt.plot(prom, linestyle='xx', label='Promedio canales') \n",
    "    plt.xlabel('Tiempo')\n",
    "    plt.ylabel('Valor')\n",
    "    plt.title('Señal promedio')\n",
    "    plt.legend()\n",
    "    plt.show()\n",
    "\n",
    "file=r\"C:\\Users\\griss\\Documents\\Parcial 1 Info2\\INFOII\\archivo1.mat\"\n",
    "graficarSenal(file)"
   ]
  },
  {
   "cell_type": "code",
   "execution_count": null,
   "metadata": {},
   "outputs": [],
   "source": [
    "\n"
   ]
  },
  {
   "cell_type": "markdown",
   "metadata": {},
   "source": [
    "2. (20%) Utilice la librería NumPy para generar una serie de señales sinusoidales con las siguientes características:\n",
    "\n",
    "- **Frecuencia de la señal: 1 Hz.**\n",
    "- **Número de muestras: 1000.**\n",
    "- **Rango de amplitud: entre 1 y 5 unidades.**\n",
    "\n",
    "Genere un total de 5 señales sinusoidales, cada una con una amplitud aleatoria dentro del rango especificado.\n",
    "\n",
    "Utilice la librería Matplotlib para graficar las 5 señales sinusoidales en una misma figura y cada señal debe estar etiquetada con su respectiva amplitud en la leyenda.\n",
    "\n",
    "Incluya etiquetas adecuadas en los ejes x e y de la figura, así como un título descriptivo."
   ]
  },
  {
   "cell_type": "code",
   "execution_count": 60,
   "metadata": {},
   "outputs": [
    {
     "data": {
      "image/png": "[encoded data removed]",
      "text/plain": [
       "<Figure size 1000x400 with 1 Axes>"
      ]
     },
     "metadata": {},
     "output_type": "display_data"
    }
   ],
   "source": [
    "import numpy as np\n",
    "import matplotlib.pyplot as plt\n",
    "\n",
    "hz=1\n",
    "muestras=1000\n",
    "amplitudmin=1\n",
    "amplitudmax=5\n",
    "cantSenales=5\n",
    "\n",
    "tiempo = np.linspace(0, muestras/hz, muestras)  # Vector de tiempo\n",
    "\n",
    "senales = []  #almacena las señales sinusoidales\n",
    "\n",
    "for i in range(cantSenales):\n",
    "    amplitud = np.random.uniform(amplitudmin, amplitudmax)  # Amplitud aleatoria\n",
    "    senal = amplitud*np.sin(2*np.pi*hz*tiempo)  # Señal sinusoidal\n",
    "    senales.append(senal)\n",
    "\n",
    "# ahora grafico se grafican con plt\n",
    "colores = ['blue','red','pink','yellow','green']\n",
    "\n",
    "plt.figure(figsize=(10, 4)) #figsize cambia el tamaño de la figura\n",
    "\n",
    "for i, senal in enumerate(senales):\n",
    "    plt.plot(tiempo, senal,label=f'Señal {i + 1}')  #grafica de la señal\n",
    "    \n",
    "plt.xlabel('Tiempo')\n",
    "plt.ylabel('Amplitud')\n",
    "plt.title(f'5 señales sinusoidales con 1 Hz')\n",
    "plt.legend()\n",
    "plt.grid(True)\n",
    "plt.show()\n"
   ]
  },
  {
   "cell_type": "markdown",
   "metadata": {},
   "source": [
    "3. (30%) Cargue el conjunto de datos de dispositivos médicos desde el archivo CSV 'datos_dispositivos.csv' utilizando la biblioteca Pandas.\n",
    "Realice un análisis exploratorio de los datos utilizando métodos y funciones de Pandas: \n",
    "\n",
    "- Muestre las primeras filas del DataFrame para entender su estructura.\n",
    "- Verifique la información básica del DataFrame, como el número de filas y columnas, los tipos de datos de cada columna y la presencia de valores nulos.\n",
    "- Filtre el dataframe según la clasificación de riesgo de los dispositivos y cree un nuevo dataframe para cada uno de ellos.\n",
    "- Por medio de filtros y métodos de pandas identifique los diferentes fabricantes de los dispositivos de la bases de datos y cuantos dispositivos corresponden a cada uno de los fabricantes."
   ]
  },
  {
   "cell_type": "code",
   "execution_count": 85,
   "metadata": {},
   "outputs": [
    {
     "name": "stdout",
     "output_type": "stream",
     "text": [
      "   ID         Nombre_dispositivo   Fabricante Clasificacion\n",
      "0   1  Monitor de signos vitales      MedTech          Bajo\n",
      "1   2              Desfibrilador     LifeCare      Moderado\n",
      "2   3         Electrocardiograma   CardioTech          Alto\n",
      "3   4                 Respirador  RespiraCorp          Bajo\n",
      "4   5          Bomba de infusión     InfuseCo      Moderado\n",
      "El dataframe tiene 30 filas, 4 columnas, es de tipo ID                     int64\n",
      "Nombre_dispositivo    object\n",
      "Fabricante            object\n",
      "Clasificacion         object\n",
      "dtype: object y tiene ID                    0\n",
      "Nombre_dispositivo    0\n",
      "Fabricante            0\n",
      "Clasificacion         0\n",
      "dtype: int64 valores nulos\n"
     ]
    }
   ],
   "source": [
    "import pandas as pd\n",
    "import matplotlib.pyplot as plt\n",
    "df = pd.read_csv(\"datos_dispositivos.csv\", delimiter=\",\")\n",
    "print(df.head()) #imprime las primeras filas\n",
    "filas,columnas=df.shape\n",
    "tipo=df.dtypes\n",
    "nulos = df.isnull().sum()\n",
    "\n",
    "print(f'El dataframe tiene {filas} filas, {columnas} columnas, es de tipo {tipo} y tiene {nulos} valores nulos')"
   ]
  },
  {
   "cell_type": "code",
   "execution_count": 86,
   "metadata": {},
   "outputs": [
    {
     "name": "stdout",
     "output_type": "stream",
     "text": [
      "{'Alto':     ID                 Nombre_dispositivo  Fabricante Clasificacion\n",
      "2    3                 Electrocardiograma  CardioTech          Alto\n",
      "5    6         Monitor de gases en sangre  CardioTech          Alto\n",
      "6    7      Bomba de insulina intravenosa  CardioTech          Alto\n",
      "14  15      Monitor de constantes vitales  CardioTech          Alto\n",
      "18  19  Bomba de infusión de medicamentos  CardioTech          Alto\n",
      "22  23               Desfibrilador manual    LifeCare          Alto\n",
      "26  27               Desfibrilador manual     MedTech          Alto\n",
      "28  29     Bomba de perfusión de insulina  CardioTech          Alto, 'Bajo':     ID                  Nombre_dispositivo   Fabricante Clasificacion\n",
      "0    1           Monitor de signos vitales      MedTech          Bajo\n",
      "3    4                          Respirador  RespiraCorp          Bajo\n",
      "7    8           Monitor de ritmo cardíaco   CardioTech          Bajo\n",
      "8    9  Monitor de signos vitales neonatal      MedTech          Bajo\n",
      "9   10          Monitor de gases en sangre  RespiraCorp          Bajo\n",
      "10  11        Bomba de infusión de morfina      MedTech          Bajo\n",
      "11  12      Electrocardiógrafo ambulatorio     InfuseCo          Bajo\n",
      "16  17            Desfibrilador pediátrico     LifeCare          Bajo\n",
      "17  18            Desfibrilador pediátrico      MedTech          Bajo\n",
      "21  22                Desfibrilador manual      MedTech          Bajo\n",
      "23  24   Bomba de infusión de medicamentos      MedTech          Bajo\n",
      "24  25                   Bomba de insulina     LifeCare          Bajo\n",
      "29  30      Bomba de perfusión de insulina     LifeCare          Bajo, 'Moderado':     ID                Nombre_dispositivo   Fabricante Clasificacion\n",
      "1    2                     Desfibrilador     LifeCare      Moderado\n",
      "4    5                 Bomba de infusión     InfuseCo      Moderado\n",
      "12  13    Bomba de perfusión de insulina   CardioTech      Moderado\n",
      "13  14   Monitor de presión intracraneal  RespiraCorp      Moderado\n",
      "15  16              Desfibrilador manual      MedTech      Moderado\n",
      "19  20  Desfibrilador externo automático   CardioTech      Moderado\n",
      "20  21    Electrocardiógrafo ambulatorio     LifeCare      Moderado\n",
      "25  26            Desfibrilador portátil      MedTech      Moderado\n",
      "27  28       Monitor de glucosa continua     LifeCare      Moderado}\n"
     ]
    }
   ],
   "source": [
    "\n",
    "riesgosDM={}\n",
    "clasificacion=['Alto','Bajo','Moderado']\n",
    "for riesgos in clasificacion:\n",
    "    filtrado = df[df['Clasificacion'].isin([riesgos])]\n",
    "    \n",
    "    riesgosDM[riesgos]=filtrado\n",
    "\n",
    "\n",
    "print(riesgosDM)"
   ]
  },
  {
   "cell_type": "code",
   "execution_count": 87,
   "metadata": {},
   "outputs": [
    {
     "name": "stdout",
     "output_type": "stream",
     "text": [
      "0         MedTech\n",
      "1        LifeCare\n",
      "2      CardioTech\n",
      "3     RespiraCorp\n",
      "4        InfuseCo\n",
      "5      CardioTech\n",
      "6      CardioTech\n",
      "7      CardioTech\n",
      "8         MedTech\n",
      "9     RespiraCorp\n",
      "10        MedTech\n",
      "11       InfuseCo\n",
      "12     CardioTech\n",
      "13    RespiraCorp\n",
      "14     CardioTech\n",
      "15        MedTech\n",
      "16       LifeCare\n",
      "17        MedTech\n",
      "18     CardioTech\n",
      "19     CardioTech\n",
      "20       LifeCare\n",
      "21        MedTech\n",
      "22       LifeCare\n",
      "23        MedTech\n",
      "24       LifeCare\n",
      "25        MedTech\n",
      "26        MedTech\n",
      "27       LifeCare\n",
      "28     CardioTech\n",
      "29       LifeCare\n",
      "Name: Fabricante, dtype: object\n"
     ]
    }
   ],
   "source": [
    "print(df['Fabricante'])"
   ]
  },
  {
   "cell_type": "code",
   "execution_count": 89,
   "metadata": {},
   "outputs": [
    {
     "name": "stdout",
     "output_type": "stream",
     "text": [
      "{'MedTech':     ID                  Nombre_dispositivo Fabricante Clasificacion\n",
      "0    1           Monitor de signos vitales    MedTech          Bajo\n",
      "8    9  Monitor de signos vitales neonatal    MedTech          Bajo\n",
      "10  11        Bomba de infusión de morfina    MedTech          Bajo\n",
      "15  16                Desfibrilador manual    MedTech      Moderado\n",
      "17  18            Desfibrilador pediátrico    MedTech          Bajo\n",
      "21  22                Desfibrilador manual    MedTech          Bajo\n",
      "23  24   Bomba de infusión de medicamentos    MedTech          Bajo\n",
      "25  26              Desfibrilador portátil    MedTech      Moderado\n",
      "26  27                Desfibrilador manual    MedTech          Alto, 'LifeCare':     ID              Nombre_dispositivo Fabricante Clasificacion\n",
      "1    2                   Desfibrilador   LifeCare      Moderado\n",
      "16  17        Desfibrilador pediátrico   LifeCare          Bajo\n",
      "20  21  Electrocardiógrafo ambulatorio   LifeCare      Moderado\n",
      "22  23            Desfibrilador manual   LifeCare          Alto\n",
      "24  25               Bomba de insulina   LifeCare          Bajo\n",
      "27  28     Monitor de glucosa continua   LifeCare      Moderado\n",
      "29  30  Bomba de perfusión de insulina   LifeCare          Bajo, 'RespiraCorp':     ID               Nombre_dispositivo   Fabricante Clasificacion\n",
      "3    4                       Respirador  RespiraCorp          Bajo\n",
      "9   10       Monitor de gases en sangre  RespiraCorp          Bajo\n",
      "13  14  Monitor de presión intracraneal  RespiraCorp      Moderado, 'CardioTech':     ID                 Nombre_dispositivo  Fabricante Clasificacion\n",
      "2    3                 Electrocardiograma  CardioTech          Alto\n",
      "5    6         Monitor de gases en sangre  CardioTech          Alto\n",
      "6    7      Bomba de insulina intravenosa  CardioTech          Alto\n",
      "7    8          Monitor de ritmo cardíaco  CardioTech          Bajo\n",
      "12  13     Bomba de perfusión de insulina  CardioTech      Moderado\n",
      "14  15      Monitor de constantes vitales  CardioTech          Alto\n",
      "18  19  Bomba de infusión de medicamentos  CardioTech          Alto\n",
      "19  20   Desfibrilador externo automático  CardioTech      Moderado\n",
      "28  29     Bomba de perfusión de insulina  CardioTech          Alto, 'InfuseCo':     ID              Nombre_dispositivo Fabricante Clasificacion\n",
      "4    5               Bomba de infusión   InfuseCo      Moderado\n",
      "11  12  Electrocardiógrafo ambulatorio   InfuseCo          Bajo}\n"
     ]
    }
   ],
   "source": [
    "fabricantes={}\n",
    "clasificacionF=['MedTech','LifeCare','RespiraCorp','CardioTech','InfuseCo']\n",
    "for fabricante in clasificacionF:\n",
    "    filtrado = df[df['Fabricante'].isin([fabricante])]\n",
    "    \n",
    "    fabricantes[fabricante]=filtrado\n",
    "\n",
    "\n",
    "print(fabricantes)"
   ]
  },
  {
   "cell_type": "markdown",
   "metadata": {},
   "source": [
    "**Éxitos y recuerden que la entrega del parcial se realiza subiendo este notebook a su repositorio de github.**"
   ]
  }
 ],
 "metadata": {
  "kernelspec": {
   "display_name": "Python 3",
   "language": "python",
   "name": "python3"
  },
  "language_info": {
   "codemirror_mode": {
    "name": "ipython",
    "version": 3
   },
   "file_extension": ".py",
   "mimetype": "text/x-python",
   "name": "python",
   "nbconvert_exporter": "python",
   "pygments_lexer": "ipython3",
   "version": "3.11.9"
  },
  "orig_nbformat": 4
 },
 "nbformat": 4,
 "nbformat_minor": 2
}
